{
 "cells": [
  {
   "cell_type": "code",
   "execution_count": null,
   "metadata": {},
   "outputs": [
    {
     "name": "stderr",
     "output_type": "stream",
     "text": [
      "Widget Javascript not detected.  It may not be installed or enabled properly. Reconnecting the current kernel may help.\n"
     ]
    },
    {
     "data": {
      "application/vnd.jupyter.widget-view+json": {
       "model_id": "d03149e32f0740a981d2a4a6b556aaf7"
      }
     },
     "metadata": {},
     "output_type": "display_data"
    },
    {
     "name": "stderr",
     "output_type": "stream",
     "text": [
      "Widget Javascript not detected.  It may not be installed or enabled properly. Reconnecting the current kernel may help.\n"
     ]
    },
    {
     "data": {
      "application/vnd.jupyter.widget-view+json": {
       "model_id": "3843524b8873404289403468b4378db7"
      }
     },
     "metadata": {},
     "output_type": "display_data"
    }
   ],
   "source": [
    "import numpy as np\n",
    "import matplotlib.pyplot as plt\n",
    "from ipywidgets import interactive, FloatSlider, VBox, Output\n",
    "\n",
    "def angle_between_vectors(v1, v2):\n",
    "    return np.arccos(np.dot(v1, v2) / (np.linalg.norm(v1) * np.linalg.norm(v2)))\n",
    "\n",
    "\n",
    "# Function to plot the vectors\n",
    "def plot_vectors(x1, y1, length1, heading1, x2, y2, length2, heading2):\n",
    "    # Convert headings from degrees to radians\n",
    "    heading1_rad = np.radians(heading1)\n",
    "    heading2_rad = np.radians(heading2)\n",
    "    \n",
    "    # Calculate the x and y components of the vectors\n",
    "    dx1, dy1 = length1 * np.cos(heading1_rad), length1 * np.sin(heading1_rad)\n",
    "    dx2, dy2 = length2 * np.cos(heading2_rad), length2 * np.sin(heading2_rad)\n",
    "\n",
    "    pos_diff = np.array([x2 - x1, y2 - y1])\n",
    "    v1 = length1 * np.array([np.cos(heading1_rad), np.sin(heading1_rad)])\n",
    "    v2 = length2 * np.array([np.cos(heading2_rad), np.sin(heading2_rad)])\n",
    "    vel_diff = v2 - v1\n",
    "    liveness = angle_between_vectors(pos_diff, -vel_diff)\n",
    "    print(f'Liveness: {liveness}')\n",
    "    \n",
    "    # Clear the current plot\n",
    "    plt.figure(figsize=(6, 6))\n",
    "    plt.quiver([x1, x2], [y1, y2], [dx1, dx2], [dy1, dy2], angles='xy', scale_units='xy', scale=1, color=['r', 'b'])\n",
    "    \n",
    "    # Set the plot limits and labels\n",
    "    plt.xlim(-2, 2)\n",
    "    plt.ylim(-2, 2)\n",
    "    plt.axhline(0, color='black', linewidth=0.5)\n",
    "    plt.axvline(0, color='black', linewidth=0.5)\n",
    "    plt.grid(True)\n",
    "    plt.gca().set_aspect('equal', adjustable='box')\n",
    "    plt.title('Interactive Vector Plot')\n",
    "    plt.show()\n",
    "\n",
    "# Define sliders for vector parameters\n",
    "x1_slider = FloatSlider(value=-.4859, min=-2, max=2, step=0.1, description='x1')\n",
    "y1_slider = FloatSlider(value=-.4003, min=-2, max=2, step=0.1, description='y1')\n",
    "length1_slider = FloatSlider(value=.212, min=0, max=1, step=0.1, description='Length1')\n",
    "heading1_slider = FloatSlider(value=np.degrees(.218), min=-360, max=360, step=1, description='Heading1')\n",
    "\n",
    "x2_slider = FloatSlider(value=1.1, min=-2, max=2, step=0.1, description='x2')\n",
    "y2_slider = FloatSlider(value=0.0, min=-2, max=2, step=0.1, description='y2')\n",
    "length2_slider = FloatSlider(value=-.218, min=0, max=1, step=0.1, description='Length2')\n",
    "heading2_slider = FloatSlider(value=np.degrees(-.218), min=-360, max=360, step=1, description='Heading2')\n",
    "\n",
    "# Create the interactive widget\n",
    "interactive_plot = interactive(\n",
    "    plot_vectors,\n",
    "    x1=x1_slider,\n",
    "    y1=y1_slider,\n",
    "    length1=length1_slider,\n",
    "    heading1=heading1_slider,\n",
    "    x2=x2_slider,\n",
    "    y2=y2_slider,\n",
    "    length2=length2_slider,\n",
    "    heading2=heading2_slider,\n",
    ")\n",
    "\n",
    "# Display the sliders and plot\n",
    "ui = VBox(interactive_plot.children[:-1])\n",
    "output = interactive_plot.children[-1]\n",
    "display(ui, output)\n"
   ]
  },
  {
   "cell_type": "code",
   "execution_count": null,
   "metadata": {},
   "outputs": [],
   "source": []
  }
 ],
 "metadata": {
  "kernelspec": {
   "display_name": "Python 3",
   "language": "python",
   "name": "python3"
  },
  "language_info": {
   "codemirror_mode": {
    "name": "ipython",
    "version": 3
   },
   "file_extension": ".py",
   "mimetype": "text/x-python",
   "name": "python",
   "nbconvert_exporter": "python",
   "pygments_lexer": "ipython3",
   "version": "3.10.12"
  }
 },
 "nbformat": 4,
 "nbformat_minor": 2
}
